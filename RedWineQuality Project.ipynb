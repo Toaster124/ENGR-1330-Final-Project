{
 "cells": [
  {
   "cell_type": "markdown",
   "metadata": {},
   "source": [
    "# ENGR 1330 – Computational Thinking and Data Science"
   ]
  },
  {
   "cell_type": "markdown",
   "metadata": {},
   "source": [
    "## Red Wine Quality Final Project - Background\n",
    "In this project, a dataset related to red wine samples from the northwest region of Portugal will\n",
    "be analyzed. The quality of a red wine that is determined via a sensory test is dependent on many different\n",
    "physicochemical properties, namely, fixed acidity, volatile acidity, pH value, density, etc. A file named\n",
    "‘winequality-red.csv’ contains information about different varieties of red wine and their quality that\n",
    "depends on several physicochemical properties like the ones mentioned above. Specifically, in the dataset, there is a quality score (QS) ranging from 3 to 8 that is given to each variety of red wine depending on 11 different properties. For this project, consider that a good wine is one with a quality score of\n",
    "QS ≥ 6 and a bad wine is one with a quality score of QS ≤ 5. The objective of this problem is to\n",
    "classify whether the wine is good or bad depending on the 11 different properties that are in the dataset.\n",
    "\n",
    "## Required Tasks:\n",
    "(a) Literature review:\n",
    "1) P. Cortez, A. Cerdeira, F. Almeida, T. Matos, and J. Reis. Modeling wine preferences by data mining\n",
    "from physicochemical properties. In Decision Support Systems, Elsevier, 47(4):547-553, 2009. [Get\n",
    "the research paper from Web of Science at TTU].\n",
    "\n",
    "(b) Data acquisition:\n",
    "1) Get the dataset required for this project from the following Kaggle website:\n",
    "https://www.kaggle.com/uciml/red-wine-quality-cortez-et-al-2009\n",
    "\n",
    "(c) Exploratory data analysis\n",
    " 1) Perform exploratory data analysis (getting information about the dataset, making plots, etc.)\n",
    " 2) Modify the dataset as needed for performing the analysis\n",
    "\n",
    "(d) Classification model\n",
    " 1) Implement a classification algorithm from scratch as well as using the data science library to\n",
    "classify good wines and bad wines\n",
    " 2) Evaluate the model by computing the necessary evaluation metrics from scratch as well as using\n",
    "the data science library\n"
   ]
  },
  {
   "cell_type": "markdown",
   "metadata": {},
   "source": [
    "**Database Acquisition**\n",
    "- Get the database from the zip file or Kaggle website: https://www.kaggle.com/uciml/red-wine-quality-cortez-et-al-2009\n",
    "- Supply links to any additional databases discovered during the literature research\n",
    "\n",
    "**Exploratory Data Analysis**\n",
    "- Describe (in words) the database.\n",
    "- Reformat as needed (column headings perhaps) the database for subsequent analysis.\n",
    "- Select possible data model structures (multi-feature linear model, power-law, ...)\n",
    "- Select possible data model \"fitting\" tools (ordinary least squares,lasso regression, decision trees, random forests, ...)\n",
    "\n",
    "**Model Building**\n",
    "- Build data models\n",
    "- Assess data model quality (decide which model is best) \n",
    "- Build the input data interface for using the \"best\" model              \n",
    "       \n",
    "**Documentation**\n",
    "- Training video on how to use your tool, and demonstrate the tool(s) as they are run\n",
    "- Project management video \n",
    "- Interim report (see deliverables below); this document must be rendered as a .pdf, but you are free to use your favorite writing software (Word,LibreOffice, ...).\n",
    "- Final Report (see deliverables below)"
   ]
  },
  {
   "cell_type": "markdown",
   "metadata": {},
   "source": [
    "## Deliverables:\n",
    "\n",
    "#### Part 1 (due December 1):\n",
    "A report that briefly describes the project database and how you plan to solve the tasks of creating a suitable data model.  \n",
    "- Break down each task into manageable subtasks and describe how you intend to solve the subtasks and how you will test each task. (Perhaps make a simple Gantt Chart)\n",
    "- Address the responsibilities of each team member for tasks completed and tasks to be completed until the end of the semester. (Perhaps make explicit subtask assignments) \n",
    "\n",
    "#### Part 2 (due Final Date):\n",
    "- A well-documented JupyterLab (using a python kernel) analysis and implementation for the data model.\n",
    "- A well-documented JupyterLab (using a python kernel) implementation for the data model user interface.\n",
    "- A well-documented JupyterLab (using a python kernel) implementation for the database update interface.\n",
    "\n",
    "**Above items can reside in a single notebook; but clearly identify sections that perform different tasks.**\n",
    "\n",
    "- A how-to video demonstrating performance and description of problems that you were not able to solve.\n",
    "- A project management video (up to 5 minutes) in which you explain how you completed the project and how you worked as a team.\n",
    "\n",
    "**Above items can reside in a single video; but structure the video into the two parts; use an obvious transition when moving from \"how to ...\" into the project management portion.**  Keep the total video length to less than 10 minutes; submit as an *unlisted* YouTube video, and just supply the link (someone on each team is likely to have a YouTube creator account).  Keep in mind a 10 minute video can approach 100MB file size before compression, so it won't upload to Blackboard and cannot be emailed."
   ]
  },
  {
   "cell_type": "code",
   "execution_count": null,
   "metadata": {},
   "outputs": [],
   "source": []
  }
 ],
 "metadata": {
  "kernelspec": {
   "display_name": "Python 3",
   "language": "python",
   "name": "python3"
  },
  "language_info": {
   "codemirror_mode": {
    "name": "ipython",
    "version": 3
   },
   "file_extension": ".py",
   "mimetype": "text/x-python",
   "name": "python",
   "nbconvert_exporter": "python",
   "pygments_lexer": "ipython3",
   "version": "3.8.8"
  }
 },
 "nbformat": 4,
 "nbformat_minor": 4
}
