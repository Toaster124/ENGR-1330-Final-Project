{
 "cells": [
  {
   "cell_type": "code",
   "execution_count": 39,
   "id": "7361bbbe",
   "metadata": {},
   "outputs": [],
   "source": [
    "import pandas as pd\n",
    "import matplotlib.pyplot as plt\n",
    "import numpy as np\n",
    "import seaborn as sns\n",
    "wine = pd.read_csv('redwinequality.csv')\n",
    "vino = pd.DataFrame()"
   ]
  },
  {
   "cell_type": "code",
   "execution_count": null,
   "id": "a4fe89c4",
   "metadata": {},
   "outputs": [],
   "source": []
  },
  {
   "cell_type": "code",
   "execution_count": 40,
   "id": "c5f9b3f1",
   "metadata": {},
   "outputs": [
    {
     "name": "stdout",
     "output_type": "stream",
     "text": [
      "amount of wines per quality\n",
      " quality\n",
      "5    681\n",
      "6    638\n",
      "7    199\n",
      "4     53\n",
      "8     18\n",
      "3     10\n",
      "dtype: int64\n",
      "amount of wines in data set\n",
      "        fixed acidity  volatile acidity  citric acid  residual sugar  \\\n",
      "count    1599.000000       1599.000000  1599.000000     1599.000000   \n",
      "mean        8.319637          0.527821     0.270976        2.538806   \n",
      "std         1.741096          0.179060     0.194801        1.409928   \n",
      "min         4.600000          0.120000     0.000000        0.900000   \n",
      "25%         7.100000          0.390000     0.090000        1.900000   \n",
      "50%         7.900000          0.520000     0.260000        2.200000   \n",
      "75%         9.200000          0.640000     0.420000        2.600000   \n",
      "max        15.900000          1.580000     1.000000       15.500000   \n",
      "\n",
      "         chlorides  free sulfur dioxide  total sulfur dioxide      density  \\\n",
      "count  1599.000000          1599.000000           1599.000000  1599.000000   \n",
      "mean      0.087467            15.874922             46.467792     0.996747   \n",
      "std       0.047065            10.460157             32.895324     0.001887   \n",
      "min       0.012000             1.000000              6.000000     0.990070   \n",
      "25%       0.070000             7.000000             22.000000     0.995600   \n",
      "50%       0.079000            14.000000             38.000000     0.996750   \n",
      "75%       0.090000            21.000000             62.000000     0.997835   \n",
      "max       0.611000            72.000000            289.000000     1.003690   \n",
      "\n",
      "                pH    sulphates      alcohol      quality  \n",
      "count  1599.000000  1599.000000  1599.000000  1599.000000  \n",
      "mean      3.311113     0.658149    10.422983     5.636023  \n",
      "std       0.154386     0.169507     1.065668     0.807569  \n",
      "min       2.740000     0.330000     8.400000     3.000000  \n",
      "25%       3.210000     0.550000     9.500000     5.000000  \n",
      "50%       3.310000     0.620000    10.200000     6.000000  \n",
      "75%       3.400000     0.730000    11.100000     6.000000  \n",
      "max       4.010000     2.000000    14.900000     8.000000  \n",
      "fixed acidity            7.8000\n",
      "volatile acidity         0.8800\n",
      "citric acid              0.0000\n",
      "residual sugar           2.6000\n",
      "chlorides                0.0980\n",
      "free sulfur dioxide     25.0000\n",
      "total sulfur dioxide    67.0000\n",
      "density                  0.9968\n",
      "pH                       3.2000\n",
      "sulphates                0.6800\n",
      "alcohol                  9.8000\n",
      "quality                  5.0000\n",
      "Name: 1, dtype: float64\n"
     ]
    }
   ],
   "source": [
    "print('amount of wines per quality\\n',wine.value_counts('quality'))\n",
    "print('amount of wines in data set\\n', wine.describe())\n",
    "print(wine.iloc[1])"
   ]
  },
  {
   "cell_type": "code",
   "execution_count": 8,
   "id": "55f8b549",
   "metadata": {},
   "outputs": [],
   "source": [
    "def goodbad(a):\n",
    "    if a>=6:\n",
    "        out=1\n",
    "    if a<6:\n",
    "        out=0\n",
    "    return out\n",
    "wine['good/bad'] = wine['quality'].apply(goodbad)"
   ]
  },
  {
   "cell_type": "code",
   "execution_count": 41,
   "id": "acab36e4",
   "metadata": {},
   "outputs": [],
   "source": [
    "vino['fixed acidity']= (wine['fixed acidity']-wine['fixed acidity'].mean())/wine['fixed acidity'].std()\n",
    "vino['volatile acidity']= (wine['volatile acidity']-wine['volatile acidity'].mean())/wine['volatile acidity'].std()\n",
    "vino['citric acid']= (wine['citric acid']-wine['citric acid'].mean())/wine['citric acid'].std()\n",
    "vino['residual sugar']= (wine['residual sugar']-wine['residual sugar'].mean())/wine['residual sugar'].std()\n",
    "vino['chlorides']= (wine['chlorides']-wine['chlorides'].mean())/wine['chlorides'].std()\n",
    "vino['free sulfur dioxide']= (wine['free sulfur dioxide']-wine['free sulfur dioxide'].mean())/wine['fixed acidity'].std()\n",
    "vino['total sulfur dioxide']= (wine['total sulfur dioxide']-wine['total sulfur dioxide'].mean())/wine['total sulfur dioxide'].std()\n",
    "vino['total sulfur dioxide']= (wine['fixed acidity']-wine['fixed acidity'].mean())/wine['fixed acidity'].std()\n",
    "vino['density']= (wine['density']-wine['density'].mean())/wine['density'].std()\n",
    "vino['sulphates']= (wine['sulphates']-wine['sulphates'].mean())/wine['sulphates'].std()\n",
    "vino['alcohol']= (wine['alcohol']-wine['alcohol'].mean())/wine['alcohol'].std()\n",
    "vino['quality']= (wine['quality']-wine['quality'].mean())/wine['quality'].std()"
   ]
  },
  {
   "cell_type": "code",
   "execution_count": 42,
   "id": "d45fa8e3",
   "metadata": {},
   "outputs": [],
   "source": [
    "random = vino.sample(1599, replace = False)\n",
    "training_set = random.iloc[0:1065, :]\n",
    "test_set = random.iloc[1065:, :]\n",
    "x_train = training_set.iloc[:, 0:10].values\n",
    "y_train = training_set.iloc[:, 10].values\n",
    "y_train = np.reshape(y_train, (len(y_train), 1))\n",
    "x_test = test_set.iloc[:, 0:10].values\n",
    "y_test = test_set.iloc[:, 10].values\n",
    "y_test = np.reshape(y_test, (len(y_test), 1))\n",
    "x_train_trans = np.transpose(x_train)\n",
    "x_train_Aug = np.vstack((np.ones((1,len(x_train))),x_train_trans))\n",
    "x_test_trans = np.transpose(x_test)\n",
    "x_test_Aug = np.vstack((np.ones((1,len(x_test))),x_test_trans))\n",
    "theta = np.zeros((11,1))"
   ]
  },
  {
   "cell_type": "code",
   "execution_count": 43,
   "id": "996b49be",
   "metadata": {},
   "outputs": [],
   "source": [
    "no_of_iter = np.arange(1,100001)\n",
    "alpha = 0.001\n",
    "m_train = len(x_train)\n",
    "m_test = len(x_test)\n",
    "\n",
    "costfunc = []\n",
    "\n",
    "#Iteration loop\n",
    "for i in no_of_iter:\n",
    "    z = np.transpose(theta)@x_train_Aug #Hypothesis function\n",
    "    #print('z',z)\n",
    "    cf = (1/(2*m_train))*(np.sum((np.transpose(z)-y_train)**2)) #Cost function\n",
    "    #print('cf',cf)\n",
    "    costfunc.append(cf) #Appending cost function\n",
    "    #print('costfunc',costfunc)\n",
    "    delthetaj = (1/m_train)*((x_train_Aug)@(np.transpose(z)-y_train)) #Derivative of cost function\n",
    "    #print('delthetaj',delthetaj)\n",
    "    theta = theta - (alpha*delthetaj) #Updating theta values\n",
    "    #print('theta',theta)"
   ]
  },
  {
   "cell_type": "code",
   "execution_count": null,
   "id": "538a48f4",
   "metadata": {},
   "outputs": [],
   "source": []
  },
  {
   "cell_type": "code",
   "execution_count": null,
   "id": "e8389ab4",
   "metadata": {},
   "outputs": [],
   "source": []
  },
  {
   "cell_type": "code",
   "execution_count": 44,
   "id": "9bc8323e",
   "metadata": {},
   "outputs": [
    {
     "data": {
      "text/html": [
       "<div>\n",
       "<style scoped>\n",
       "    .dataframe tbody tr th:only-of-type {\n",
       "        vertical-align: middle;\n",
       "    }\n",
       "\n",
       "    .dataframe tbody tr th {\n",
       "        vertical-align: top;\n",
       "    }\n",
       "\n",
       "    .dataframe thead th {\n",
       "        text-align: right;\n",
       "    }\n",
       "</style>\n",
       "<table border=\"1\" class=\"dataframe\">\n",
       "  <thead>\n",
       "    <tr style=\"text-align: right;\">\n",
       "      <th></th>\n",
       "      <th>fixed acidity</th>\n",
       "      <th>volatile acidity</th>\n",
       "      <th>citric acid</th>\n",
       "      <th>residual sugar</th>\n",
       "      <th>chlorides</th>\n",
       "      <th>free sulfur dioxide</th>\n",
       "      <th>total sulfur dioxide</th>\n",
       "      <th>density</th>\n",
       "      <th>pH</th>\n",
       "      <th>sulphates</th>\n",
       "      <th>alcohol</th>\n",
       "      <th>quality</th>\n",
       "    </tr>\n",
       "  </thead>\n",
       "  <tbody>\n",
       "    <tr>\n",
       "      <th>1132</th>\n",
       "      <td>7.4</td>\n",
       "      <td>0.36</td>\n",
       "      <td>0.34</td>\n",
       "      <td>1.8</td>\n",
       "      <td>0.075</td>\n",
       "      <td>18.0</td>\n",
       "      <td>38.0</td>\n",
       "      <td>0.9933</td>\n",
       "      <td>3.38</td>\n",
       "      <td>0.88</td>\n",
       "      <td>13.6</td>\n",
       "      <td>7</td>\n",
       "    </tr>\n",
       "  </tbody>\n",
       "</table>\n",
       "</div>"
      ],
      "text/plain": [
       "      fixed acidity  volatile acidity  citric acid  residual sugar  chlorides  \\\n",
       "1132            7.4              0.36         0.34             1.8      0.075   \n",
       "\n",
       "      free sulfur dioxide  total sulfur dioxide  density    pH  sulphates  \\\n",
       "1132                 18.0                  38.0   0.9933  3.38       0.88   \n",
       "\n",
       "      alcohol  quality  \n",
       "1132     13.6        7  "
      ]
     },
     "execution_count": 44,
     "metadata": {},
     "output_type": "execute_result"
    }
   ],
   "source": [
    "#sample for input\n",
    "wine.sample(1)"
   ]
  },
  {
   "cell_type": "code",
   "execution_count": 46,
   "id": "ff762508",
   "metadata": {},
   "outputs": [
    {
     "name": "stdout",
     "output_type": "stream",
     "text": [
      "User Input One:fixed acidity 7.4\n",
      "User Input Two:volatile acidity .36\n",
      "User Input Three:citric acid .34\n",
      "User Input 4:residual sugar 1.8\n",
      "User Input 5:chlorides .075\n",
      "User Input 6:free sulfur dioxide18.0\n",
      "User Input 7:total sulfur dioxide 38\n",
      "User Input 8:density .9933\n",
      "User Input 9:pH 3.38\n",
      "User Input 10:sulphates .88\n",
      "User Input 11:alcohol 13.6\n",
      "Prediction value if wine is good or bad. [6.50796576]\n",
      "This is a good wine.\n"
     ]
    }
   ],
   "source": [
    "is_it_good_or_bad_wine()"
   ]
  },
  {
   "cell_type": "code",
   "execution_count": 45,
   "id": "ed4b2388",
   "metadata": {},
   "outputs": [],
   "source": [
    "#user input project\n",
    "def is_it_good_or_bad_wine():\n",
    "    u1 = (float(input(\"User Input One:fixed acidity \"))-wine['fixed acidity'].mean())/wine['fixed acidity'].std()\n",
    "    u2 = (float(input(\"User Input Two:volatile acidity \"))-wine['volatile acidity'].mean())/wine['volatile acidity'].std()\n",
    "    u3 = (float(input(\"User Input Three:citric acid \"))-wine['citric acid'].mean())/wine['citric acid'].std()\n",
    "    u4 = (float(input(\"User Input 4:residual sugar \"))-wine['residual sugar'].mean())/wine['residual sugar'].std()\n",
    "    u5 = (float(input(\"User Input 5:chlorides \"))-wine['chlorides'].mean())/wine['chlorides'].std()\n",
    "    u6 = (float(input(\"User Input 6:free sulfur dioxide\"))-wine['free sulfur dioxide'].mean())/wine['free sulfur dioxide'].std()\n",
    "    u7 = (float(input(\"User Input 7:total sulfur dioxide \"))-wine['total sulfur dioxide'].mean())/wine['total sulfur dioxide'].std()\n",
    "    u8 = (float(input(\"User Input 8:density \"))-wine['density'].mean())/wine['density'].std()\n",
    "    u9 = (float(input(\"User Input 9:pH \"))-wine['pH'].mean())/wine['pH'].std()\n",
    "    u10 = (float(input(\"User Input 10:sulphates \"))-wine['sulphates'].mean())/wine['sulphates'].std()\n",
    "    u11 = (float(input(\"User Input 11:alcohol \"))-wine['alcohol'].mean())/wine['alcohol'].std()\n",
    "    output= theta[0]*u1 + theta[1]*u2 + theta[2]*u3 + theta[3]*u4 + theta[4]*u5 + theta[5]*u6 + theta[6]*u7 + theta[7]*u8 + theta[8]*u9 + theta[9]*u10+ + theta[10]*u11\n",
    "    gb=output*wine['quality'].std() + wine['quality'].mean()\n",
    "    print('Prediction value if wine is good or bad.',gb)\n",
    "    if gb>=.5:\n",
    "        print('This is a good wine.')\n",
    "    elif gb<.5:\n",
    "        print('This is a bad wine.')"
   ]
  },
  {
   "cell_type": "code",
   "execution_count": null,
   "id": "e4fa0d83",
   "metadata": {},
   "outputs": [],
   "source": []
  },
  {
   "cell_type": "code",
   "execution_count": 47,
   "id": "fcb0b93c",
   "metadata": {},
   "outputs": [
    {
     "name": "stdout",
     "output_type": "stream",
     "text": [
      "output_expected 6\n",
      "output predicted [5.91217634]\n",
      "Prediction value if wine is good or bad. [5.91217634]\n"
     ]
    }
   ],
   "source": [
    "ran= np.random.randint(0,1598)\n",
    "u1= (wine['fixed acidity'][ran]-wine['fixed acidity'].mean())/wine['fixed acidity'].std()\n",
    "u2= (wine['volatile acidity'][ran]-wine['volatile acidity'].mean())/wine['volatile acidity'].std()\n",
    "u3= (wine['citric acid'][ran]-wine['citric acid'].mean())/wine['citric acid'].std()\n",
    "u4= (wine['residual sugar'][ran]-wine['residual sugar'].mean())/wine['residual sugar'].std()\n",
    "u5= (wine['chlorides'][ran]-wine['chlorides'].mean())/wine['chlorides'].std()\n",
    "u6= (wine['free sulfur dioxide'][ran]-wine['free sulfur dioxide'].mean())/wine['fixed acidity'].std()\n",
    "u7= (wine['total sulfur dioxide'][ran]-wine['total sulfur dioxide'].mean())/wine['total sulfur dioxide'].std()\n",
    "u8= (wine['fixed acidity'][ran]-wine['fixed acidity'].mean())/wine['fixed acidity'].std()\n",
    "u9= (wine['density'][ran]-wine['density'].mean())/wine['density'].std()\n",
    "u10= (wine['sulphates'][ran]-wine['sulphates'].mean())/wine['sulphates'].std()\n",
    "u11= (wine['alcohol'][ran]-wine['alcohol'].mean())/wine['alcohol'].std()\n",
    "print('output_expected',wine['quality'][ran])\n",
    "output= theta[0]*u1 + theta[1]*u2 + theta[2]*u3 + theta[3]*u4 + theta[4]*u5 + theta[5]*u6 + theta[6]*u7 + theta[7]*u8 + theta[8]*u9 + theta[9]*u10+ + theta[10]*u11\n",
    "print('output predicted', output*wine['quality'].std() + wine['quality'].mean())\n",
    "gb=output*wine['quality'].std() + wine['quality'].mean()\n",
    "print('Prediction value if wine is good or bad.',gb)\n",
    "if gb>=6:\n",
    "    print('This is a good wine.')\n",
    "elif gb<5:\n",
    "    print('This is a bad wine.')"
   ]
  },
  {
   "cell_type": "code",
   "execution_count": 48,
   "id": "94dd0364",
   "metadata": {},
   "outputs": [],
   "source": [
    "times= np.arange(0,10000)\n",
    "diff= []\n",
    "\n",
    "for a in times:\n",
    "    ran= np.random.randint(0,1598)\n",
    "    u1= (wine['fixed acidity'][ran]-wine['fixed acidity'].mean())/wine['fixed acidity'].std()\n",
    "    u2= (wine['volatile acidity'][ran]-wine['volatile acidity'].mean())/wine['volatile acidity'].std()\n",
    "    u3= (wine['citric acid'][ran]-wine['citric acid'].mean())/wine['citric acid'].std()\n",
    "    u4= (wine['residual sugar'][ran]-wine['residual sugar'].mean())/wine['residual sugar'].std()\n",
    "    u5= (wine['chlorides'][ran]-wine['chlorides'].mean())/wine['chlorides'].std()\n",
    "    u6= (wine['free sulfur dioxide'][ran]-wine['free sulfur dioxide'].mean())/wine['fixed acidity'].std()\n",
    "    u7= (wine['total sulfur dioxide'][ran]-wine['total sulfur dioxide'].mean())/wine['total sulfur dioxide'].std()\n",
    "    u8= (wine['fixed acidity'][ran]-wine['fixed acidity'].mean())/wine['fixed acidity'].std()\n",
    "    u9= (wine['density'][ran]-wine['density'].mean())/wine['density'].std()\n",
    "    u10= (wine['sulphates'][ran]-wine['sulphates'].mean())/wine['sulphates'].std()\n",
    "    u11= (wine['alcohol'][ran]-wine['alcohol'].mean())/wine['alcohol'].std()\n",
    "    output_expected=wine['quality'][ran]\n",
    "    output= theta[0]*u1 + theta[1]*u2 + theta[2]*u3 + theta[3]*u4 + theta[4]*u5 + theta[5]*u6 + theta[6]*u7 + theta[7]*u8 + theta[8]*u9 + theta[9]*u10+ + theta[10]*u11\n",
    "    \n",
    "    subtract= output_expected-(output*wine['quality'].std() + wine['quality'].mean())\n",
    "    \n",
    "    diff.append(float(subtract))"
   ]
  },
  {
   "cell_type": "code",
   "execution_count": 49,
   "id": "e4f45528",
   "metadata": {},
   "outputs": [
    {
     "data": {
      "image/png": "[encoded data removed]",
      "text/plain": [
       "<Figure size 432x288 with 1 Axes>"
      ]
     },
     "metadata": {
      "needs_background": "light"
     },
     "output_type": "display_data"
    }
   ],
   "source": [
    "plt.hist(diff, bins=50)\n",
    "plt.show()"
   ]
  },
  {
   "cell_type": "code",
   "execution_count": null,
   "id": "d1f644b4",
   "metadata": {},
   "outputs": [],
   "source": []
  }
 ],
 "metadata": {
  "kernelspec": {
   "display_name": "Python 3",
   "language": "python",
   "name": "python3"
  },
  "language_info": {
   "codemirror_mode": {
    "name": "ipython",
    "version": 3
   },
   "file_extension": ".py",
   "mimetype": "text/x-python",
   "name": "python",
   "nbconvert_exporter": "python",
   "pygments_lexer": "ipython3",
   "version": "3.8.8"
  }
 },
 "nbformat": 4,
 "nbformat_minor": 5
}
